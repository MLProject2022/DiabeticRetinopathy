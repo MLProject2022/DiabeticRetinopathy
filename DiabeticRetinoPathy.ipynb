{
 "cells": [
  {
   "cell_type": "code",
   "execution_count": 2,
   "id": "4003afed",
   "metadata": {
    "scrolled": true
   },
   "outputs": [
    {
     "name": "stdout",
     "output_type": "stream",
     "text": [
      "Collecting tensorflow==2.5.0\n",
      "  Downloading tensorflow-2.5.0-cp36-cp36m-manylinux2010_x86_64.whl (454.3 MB)\n",
      "     |█████████████████████████████▎  | 415.5 MB 56.2 MB/s eta 0:00:01"
     ]
    },
    {
     "name": "stderr",
     "output_type": "stream",
     "text": [
      "IOPub data rate exceeded.\n",
      "The notebook server will temporarily stop sending output\n",
      "to the client in order to avoid crashing it.\n",
      "To change this limit, set the config variable\n",
      "`--NotebookApp.iopub_data_rate_limit`.\n",
      "\n",
      "Current values:\n",
      "NotebookApp.iopub_data_rate_limit=1000000.0 (bytes/sec)\n",
      "NotebookApp.rate_limit_window=3.0 (secs)\n",
      "\n"
     ]
    },
    {
     "name": "stdout",
     "output_type": "stream",
     "text": [
      "     |████████████████████████████████| 454.3 MB 3.9 kB/s             \n",
      "\u001b[?25hRequirement already satisfied: opt-einsum~=3.3.0 in /home/ec2-user/anaconda3/envs/python3/lib/python3.6/site-packages (from tensorflow==2.5.0) (3.3.0)\n",
      "Requirement already satisfied: typing-extensions~=3.7.4 in /home/ec2-user/anaconda3/envs/python3/lib/python3.6/site-packages (from tensorflow==2.5.0) (3.7.4.3)\n",
      "Requirement already satisfied: wheel~=0.35 in /home/ec2-user/anaconda3/envs/python3/lib/python3.6/site-packages (from tensorflow==2.5.0) (0.36.2)\n",
      "Collecting tensorflow-estimator<2.6.0,>=2.5.0rc0\n",
      "  Downloading tensorflow_estimator-2.5.0-py2.py3-none-any.whl (462 kB)\n",
      "     |████████████████████████████████| 462 kB 70.8 MB/s            \n",
      "\u001b[?25hRequirement already satisfied: gast==0.4.0 in /home/ec2-user/anaconda3/envs/python3/lib/python3.6/site-packages (from tensorflow==2.5.0) (0.4.0)\n",
      "Requirement already satisfied: keras-preprocessing~=1.1.2 in /home/ec2-user/anaconda3/envs/python3/lib/python3.6/site-packages (from tensorflow==2.5.0) (1.1.2)\n",
      "Requirement already satisfied: absl-py~=0.10 in /home/ec2-user/anaconda3/envs/python3/lib/python3.6/site-packages (from tensorflow==2.5.0) (0.15.0)\n",
      "Requirement already satisfied: wrapt~=1.12.1 in /home/ec2-user/anaconda3/envs/python3/lib/python3.6/site-packages (from tensorflow==2.5.0) (1.12.1)\n",
      "Requirement already satisfied: flatbuffers~=1.12.0 in /home/ec2-user/anaconda3/envs/python3/lib/python3.6/site-packages (from tensorflow==2.5.0) (1.12)\n",
      "Requirement already satisfied: google-pasta~=0.2 in /home/ec2-user/anaconda3/envs/python3/lib/python3.6/site-packages (from tensorflow==2.5.0) (0.2.0)\n",
      "Requirement already satisfied: six~=1.15.0 in /home/ec2-user/anaconda3/envs/python3/lib/python3.6/site-packages (from tensorflow==2.5.0) (1.15.0)\n",
      "Requirement already satisfied: termcolor~=1.1.0 in /home/ec2-user/anaconda3/envs/python3/lib/python3.6/site-packages (from tensorflow==2.5.0) (1.1.0)\n",
      "Requirement already satisfied: tensorboard~=2.5 in /home/ec2-user/anaconda3/envs/python3/lib/python3.6/site-packages (from tensorflow==2.5.0) (2.6.0)\n",
      "Collecting keras-nightly~=2.5.0.dev\n",
      "  Downloading keras_nightly-2.5.0.dev2021032900-py2.py3-none-any.whl (1.2 MB)\n",
      "     |████████████████████████████████| 1.2 MB 30.9 MB/s            \n",
      "\u001b[?25hCollecting grpcio~=1.34.0\n",
      "  Downloading grpcio-1.34.1-cp36-cp36m-manylinux2014_x86_64.whl (4.0 MB)\n",
      "     |████████████████████████████████| 4.0 MB 30.9 MB/s            \n",
      "\u001b[?25hRequirement already satisfied: numpy~=1.19.2 in /home/ec2-user/anaconda3/envs/python3/lib/python3.6/site-packages (from tensorflow==2.5.0) (1.19.5)\n",
      "Requirement already satisfied: protobuf>=3.9.2 in /home/ec2-user/anaconda3/envs/python3/lib/python3.6/site-packages (from tensorflow==2.5.0) (3.15.2)\n",
      "Requirement already satisfied: h5py~=3.1.0 in /home/ec2-user/anaconda3/envs/python3/lib/python3.6/site-packages (from tensorflow==2.5.0) (3.1.0)\n",
      "Requirement already satisfied: astunparse~=1.6.3 in /home/ec2-user/anaconda3/envs/python3/lib/python3.6/site-packages (from tensorflow==2.5.0) (1.6.3)\n",
      "Requirement already satisfied: cached-property in /home/ec2-user/anaconda3/envs/python3/lib/python3.6/site-packages (from h5py~=3.1.0->tensorflow==2.5.0) (1.5.1)\n",
      "Requirement already satisfied: werkzeug>=0.11.15 in /home/ec2-user/anaconda3/envs/python3/lib/python3.6/site-packages (from tensorboard~=2.5->tensorflow==2.5.0) (2.0.2)\n",
      "Requirement already satisfied: setuptools>=41.0.0 in /home/ec2-user/anaconda3/envs/python3/lib/python3.6/site-packages (from tensorboard~=2.5->tensorflow==2.5.0) (49.6.0.post20210108)\n",
      "Requirement already satisfied: requests<3,>=2.21.0 in /home/ec2-user/anaconda3/envs/python3/lib/python3.6/site-packages (from tensorboard~=2.5->tensorflow==2.5.0) (2.26.0)\n",
      "Requirement already satisfied: tensorboard-data-server<0.7.0,>=0.6.0 in /home/ec2-user/anaconda3/envs/python3/lib/python3.6/site-packages (from tensorboard~=2.5->tensorflow==2.5.0) (0.6.1)\n",
      "Requirement already satisfied: markdown>=2.6.8 in /home/ec2-user/anaconda3/envs/python3/lib/python3.6/site-packages (from tensorboard~=2.5->tensorflow==2.5.0) (3.3.7)\n",
      "Requirement already satisfied: google-auth-oauthlib<0.5,>=0.4.1 in /home/ec2-user/anaconda3/envs/python3/lib/python3.6/site-packages (from tensorboard~=2.5->tensorflow==2.5.0) (0.4.6)\n",
      "Requirement already satisfied: tensorboard-plugin-wit>=1.6.0 in /home/ec2-user/anaconda3/envs/python3/lib/python3.6/site-packages (from tensorboard~=2.5->tensorflow==2.5.0) (1.8.1)\n",
      "Requirement already satisfied: google-auth<2,>=1.6.3 in /home/ec2-user/anaconda3/envs/python3/lib/python3.6/site-packages (from tensorboard~=2.5->tensorflow==2.5.0) (1.35.0)\n",
      "Requirement already satisfied: pyasn1-modules>=0.2.1 in /home/ec2-user/anaconda3/envs/python3/lib/python3.6/site-packages (from google-auth<2,>=1.6.3->tensorboard~=2.5->tensorflow==2.5.0) (0.2.8)\n",
      "Requirement already satisfied: rsa<5,>=3.1.4 in /home/ec2-user/anaconda3/envs/python3/lib/python3.6/site-packages (from google-auth<2,>=1.6.3->tensorboard~=2.5->tensorflow==2.5.0) (4.7.2)\n",
      "Requirement already satisfied: cachetools<5.0,>=2.0.0 in /home/ec2-user/anaconda3/envs/python3/lib/python3.6/site-packages (from google-auth<2,>=1.6.3->tensorboard~=2.5->tensorflow==2.5.0) (4.2.4)\n",
      "Requirement already satisfied: requests-oauthlib>=0.7.0 in /home/ec2-user/anaconda3/envs/python3/lib/python3.6/site-packages (from google-auth-oauthlib<0.5,>=0.4.1->tensorboard~=2.5->tensorflow==2.5.0) (1.3.1)\n",
      "Requirement already satisfied: importlib-metadata>=4.4 in /home/ec2-user/anaconda3/envs/python3/lib/python3.6/site-packages (from markdown>=2.6.8->tensorboard~=2.5->tensorflow==2.5.0) (4.8.3)\n",
      "Requirement already satisfied: certifi>=2017.4.17 in /home/ec2-user/anaconda3/envs/python3/lib/python3.6/site-packages (from requests<3,>=2.21.0->tensorboard~=2.5->tensorflow==2.5.0) (2021.5.30)\n",
      "Requirement already satisfied: charset-normalizer~=2.0.0 in /home/ec2-user/anaconda3/envs/python3/lib/python3.6/site-packages (from requests<3,>=2.21.0->tensorboard~=2.5->tensorflow==2.5.0) (2.0.9)\n",
      "Requirement already satisfied: urllib3<1.27,>=1.21.1 in /home/ec2-user/anaconda3/envs/python3/lib/python3.6/site-packages (from requests<3,>=2.21.0->tensorboard~=2.5->tensorflow==2.5.0) (1.26.7)\n",
      "Requirement already satisfied: idna<4,>=2.5 in /home/ec2-user/anaconda3/envs/python3/lib/python3.6/site-packages (from requests<3,>=2.21.0->tensorboard~=2.5->tensorflow==2.5.0) (3.1)\n",
      "Requirement already satisfied: dataclasses in /home/ec2-user/anaconda3/envs/python3/lib/python3.6/site-packages (from werkzeug>=0.11.15->tensorboard~=2.5->tensorflow==2.5.0) (0.8)\n",
      "Requirement already satisfied: zipp>=0.5 in /home/ec2-user/anaconda3/envs/python3/lib/python3.6/site-packages (from importlib-metadata>=4.4->markdown>=2.6.8->tensorboard~=2.5->tensorflow==2.5.0) (3.4.0)\n",
      "Requirement already satisfied: pyasn1<0.5.0,>=0.4.6 in /home/ec2-user/anaconda3/envs/python3/lib/python3.6/site-packages (from pyasn1-modules>=0.2.1->google-auth<2,>=1.6.3->tensorboard~=2.5->tensorflow==2.5.0) (0.4.8)\n",
      "Requirement already satisfied: oauthlib>=3.0.0 in /home/ec2-user/anaconda3/envs/python3/lib/python3.6/site-packages (from requests-oauthlib>=0.7.0->google-auth-oauthlib<0.5,>=0.4.1->tensorboard~=2.5->tensorflow==2.5.0) (3.2.0)\n",
      "Installing collected packages: grpcio, tensorflow-estimator, keras-nightly, tensorflow\n",
      "  Attempting uninstall: grpcio\n",
      "    Found existing installation: grpcio 1.46.3\n",
      "    Uninstalling grpcio-1.46.3:\n",
      "      Successfully uninstalled grpcio-1.46.3\n",
      "  Attempting uninstall: tensorflow-estimator\n",
      "    Found existing installation: tensorflow-estimator 2.6.0\n",
      "    Uninstalling tensorflow-estimator-2.6.0:\n",
      "      Successfully uninstalled tensorflow-estimator-2.6.0\n",
      "  Attempting uninstall: tensorflow\n",
      "    Found existing installation: tensorflow 2.6.2\n",
      "    Uninstalling tensorflow-2.6.2:\n",
      "      Successfully uninstalled tensorflow-2.6.2\n",
      "Successfully installed grpcio-1.34.1 keras-nightly-2.5.0.dev2021032900 tensorflow-2.5.0 tensorflow-estimator-2.5.0\n"
     ]
    }
   ],
   "source": [
    "!pip install tensorflow==2.5.0"
   ]
  },
  {
   "cell_type": "code",
   "execution_count": 33,
   "id": "01186b32",
   "metadata": {},
   "outputs": [
    {
     "name": "stdout",
     "output_type": "stream",
     "text": [
      "Requirement already satisfied: opencv-python in /home/ec2-user/anaconda3/envs/python3/lib/python3.6/site-packages (4.5.1.48)\r\n",
      "Requirement already satisfied: numpy>=1.13.3 in /home/ec2-user/anaconda3/envs/python3/lib/python3.6/site-packages (from opencv-python) (1.19.5)\r\n"
     ]
    }
   ],
   "source": [
    "!pip install opencv-python"
   ]
  },
  {
   "cell_type": "code",
   "execution_count": 6,
   "id": "526d44e1",
   "metadata": {},
   "outputs": [],
   "source": [
    "import tensorflow as tf\n",
    "\n",
    "from tensorflow.keras import datasets, layers, models\n",
    "import matplotlib.pyplot as plt\n",
    "\n",
    "from sklearn.metrics import classification_report\n",
    "from tensorflow.keras.callbacks import EarlyStopping\n",
    "\n",
    "train_dir = '/local/temp/Project/trainData'\n",
    "test_dir = '/local/temp/Project/testData'\n"
   ]
  },
  {
   "cell_type": "code",
   "execution_count": 11,
   "id": "43f76a3b",
   "metadata": {},
   "outputs": [],
   "source": [
    "def image_data(train_dir, test_dir):\n",
    "    \n",
    "    train_data = tf.keras.preprocessing.image_dataset_from_directory(\n",
    "      train_dir,\n",
    "      validation_split=0.2,\n",
    "      subset=\"training\",\n",
    "      image_size=(256, 256),\n",
    "      seed=1,\n",
    "      batch_size=64,\n",
    "     labels='inferred',\n",
    "     label_mode='categorical',\n",
    "     color_mode='rgb',\n",
    "    )\n",
    "\n",
    "    val_data = tf.keras.preprocessing.image_dataset_from_directory(\n",
    "      train_dir,\n",
    "      validation_split=0.2,\n",
    "      subset=\"validation\",\n",
    "      seed=1,\n",
    "      image_size=(256, 256),\n",
    "      batch_size=64,\n",
    "      labels='inferred',\n",
    "      label_mode='categorical',\n",
    "      color_mode='rgb',\n",
    "    )\n",
    "\n",
    "    test_data = tf.keras.preprocessing.image_dataset_from_directory(\n",
    "      test_dir,\n",
    "      seed=1,\n",
    "      image_size=(256, 256),\n",
    "      batch_size=64,\n",
    "      labels='inferred',\n",
    "      label_mode='categorical',\n",
    "      color_mode='rgb'\n",
    "    )\n",
    "    return train_data, val_data, test_data"
   ]
  },
  {
   "cell_type": "code",
   "execution_count": 3,
   "id": "05868b44",
   "metadata": {},
   "outputs": [],
   "source": [
    "import cv2\n",
    "import numpy as np\n",
    "from os import listdir\n",
    "from os.path import isfile, join\n",
    "import glob \n",
    "\n",
    "def get_list_of_files(train_dir, test_dir):\n",
    "    image_files = []\n",
    "    train_images = glob.glob(\"{}/*/*.png\".format(train_dir))\n",
    "    test_images = glob.glob(\"{}/*/*.png\".format(test_dir))\n",
    "    \n",
    "    return train_images, test_images\n",
    "\n",
    "def image_to_vector(image: np.ndarray, scale: bool = False) -> np.ndarray:\n",
    "    length, height, depth = image.shape\n",
    "    \n",
    "    if scale:\n",
    "        image.reshape((1, length * height * depth))/255.0\n",
    "        \n",
    "    return image.reshape((1, length * height * depth))\n",
    "\n",
    "def read_data(image_files, scale: bool = False):\n",
    "    image_array = []\n",
    "    labels = []\n",
    "    for image_file in image_files:\n",
    "        im = cv2.imread(image_file)\n",
    "        im = image_to_vector(im, scale)\n",
    "        image_array.append(im)\n",
    "        labels.append(image_file.split('/')[-2])\n",
    "\n",
    "    image_array = np.vstack(image_array)\n",
    "    return image_array, labels\n"
   ]
  },
  {
   "cell_type": "code",
   "execution_count": 79,
   "id": "1247db69",
   "metadata": {},
   "outputs": [],
   "source": [
    "from sklearn.preprocessing import LabelEncoder\n",
    "from tensorflow.keras import Sequential\n",
    "from tensorflow.keras.layers import Dense\n",
    "from matplotlib import pyplot\n",
    "from tensorflow.keras.optimizers import SGD\n",
    "from tensorflow.keras.layers import Dropout\n",
    "from tensorflow.keras.layers import Conv2D\n",
    "from tensorflow.keras.layers import MaxPool2D\n",
    "from tensorflow.keras.layers import Flatten\n",
    "\n",
    "\n",
    "def train_dnn(train_data, test_data, y_train, y_test):\n",
    "    n_features = train_data.shape[1]\n",
    "\n",
    "    model = Sequential()\n",
    "    model.add(Dense(100, activation='relu', kernel_initializer='he_normal', input_shape=(n_features,)))\n",
    "    # model.add(Dropout(0.5))\n",
    "    \n",
    "    model.add(Dense(50, activation='relu', kernel_initializer='he_normal'))\n",
    "    model.add(Dense(5, activation='softmax'))\n",
    "\n",
    "    model.compile(optimizer='adam', loss='categorical_crossentropy', metrics=['accuracy'])\n",
    "\n",
    "    # es = EarlyStopping(monitor='val_loss', mode='min', verbose=1)\n",
    "    history = model.fit(train_data, y_train, epochs=15, batch_size=64, verbose=1, \n",
    "                        validation_split=0.3, \n",
    "                        # callbacks=[es]\n",
    "                       )\n",
    "\n",
    "    model.summary()\n",
    "\n",
    "    loss, acc = model.evaluate(test_data, y_test, verbose=1)\n",
    "    print('Test Accuracy: %.3f' % acc)\n",
    "\n",
    "    # plot learning curves\n",
    "    pyplot.title('Learning Curves')\n",
    "    pyplot.xlabel('Epoch')\n",
    "    pyplot.ylabel('Cross Entropy')\n",
    "    pyplot.plot(history.history['loss'], label='train')\n",
    "    pyplot.plot(history.history['val_loss'], label='val')\n",
    "    pyplot.legend()\n",
    "    pyplot.show()\n",
    "    \n",
    "    return model\n",
    "\n",
    "\n",
    "def train_cnn(train_data, val_data, test_data, n_classes=5):    \n",
    "    # define model\n",
    "    model = Sequential()\n",
    "    \n",
    "    model.add(Conv2D(32, (3,3), activation='relu', kernel_initializer='he_uniform', input_shape=(256, 256, 3)))\n",
    "    model.add(MaxPool2D((2, 2)))    \n",
    "    \n",
    "    model.add(Conv2D(64, (3,3), activation='relu', kernel_initializer='he_uniform', input_shape=(256, 256, 3)))\n",
    "    model.add(MaxPool2D((2, 2)))    \n",
    "    model.add(Flatten()) \n",
    "    \n",
    "    model.add(Dense(100, activation='relu', kernel_initializer='he_uniform'))\n",
    "    # model.add(Dropout(0.25))\n",
    "    \n",
    "    model.add(Dense(n_classes, activation='softmax'))\n",
    "    \n",
    "    # define loss and optimizer\n",
    "    #sparse_categorical_crossentropy\n",
    "    model.compile(optimizer='adam', loss='categorical_crossentropy', metrics=['accuracy'])\n",
    "\n",
    "    # fit the model\n",
    "    history = model.fit(train_data, epochs=10, validation_data=val_data, shuffle=True)\n",
    "    model.summary()    \n",
    "        \n",
    "    # evaluate the model\n",
    "    loss, acc = model.evaluate(test_data, verbose=1)\n",
    "    print('Accuracy: %.3f' % acc)    \n",
    "    \n",
    "    # plot learning curves\n",
    "    pyplot.title('Learning Curves')\n",
    "    pyplot.xlabel('Epoch')\n",
    "    pyplot.ylabel('Cross Entropy')\n",
    "    pyplot.plot(history.history['loss'], label='train')\n",
    "    pyplot.plot(history.history['val_loss'], label='val')\n",
    "    pyplot.legend()\n",
    "    pyplot.show()\n",
    "    \n",
    "    return model\n"
   ]
  },
  {
   "cell_type": "markdown",
   "id": "bdecc8a0",
   "metadata": {},
   "source": [
    "### Train CNN"
   ]
  },
  {
   "cell_type": "code",
   "execution_count": 77,
   "id": "d1185800",
   "metadata": {},
   "outputs": [
    {
     "name": "stdout",
     "output_type": "stream",
     "text": [
      "Found 2205 files belonging to 5 classes.\n",
      "Using 1764 files for training.\n",
      "Found 2205 files belonging to 5 classes.\n",
      "Using 441 files for validation.\n",
      "Found 545 files belonging to 5 classes.\n"
     ]
    }
   ],
   "source": [
    "train_img_data, val_img_data, test_img_data = image_data(train_dir, test_dir)"
   ]
  },
  {
   "cell_type": "code",
   "execution_count": 80,
   "id": "64fe975c",
   "metadata": {
    "scrolled": false
   },
   "outputs": [
    {
     "name": "stdout",
     "output_type": "stream",
     "text": [
      "Epoch 1/10\n",
      "28/28 [==============================] - 106s 4s/step - loss: 6345.1187 - accuracy: 0.4059 - val_loss: 53.1288 - val_accuracy: 0.5329\n",
      "Epoch 2/10\n",
      "28/28 [==============================] - 104s 4s/step - loss: 28.4320 - accuracy: 0.5493 - val_loss: 7.2121 - val_accuracy: 0.5624\n",
      "Epoch 3/10\n",
      "28/28 [==============================] - 103s 4s/step - loss: 3.3122 - accuracy: 0.6117 - val_loss: 1.6084 - val_accuracy: 0.5760\n",
      "Epoch 4/10\n",
      "28/28 [==============================] - 104s 4s/step - loss: 1.2157 - accuracy: 0.6536 - val_loss: 1.1591 - val_accuracy: 0.5714\n",
      "Epoch 5/10\n",
      "28/28 [==============================] - 104s 4s/step - loss: 0.9576 - accuracy: 0.6752 - val_loss: 1.0921 - val_accuracy: 0.6168\n",
      "Epoch 6/10\n",
      "28/28 [==============================] - 103s 4s/step - loss: 0.8042 - accuracy: 0.7069 - val_loss: 1.0762 - val_accuracy: 0.6327\n",
      "Epoch 7/10\n",
      "28/28 [==============================] - 104s 4s/step - loss: 0.7082 - accuracy: 0.7387 - val_loss: 1.0274 - val_accuracy: 0.6440\n",
      "Epoch 8/10\n",
      "28/28 [==============================] - 103s 4s/step - loss: 0.6863 - accuracy: 0.7449 - val_loss: 1.0366 - val_accuracy: 0.6349\n",
      "Epoch 9/10\n",
      "28/28 [==============================] - 104s 4s/step - loss: 0.5915 - accuracy: 0.7806 - val_loss: 1.0649 - val_accuracy: 0.6327\n",
      "Epoch 10/10\n",
      "28/28 [==============================] - 103s 4s/step - loss: 0.5504 - accuracy: 0.7976 - val_loss: 1.1430 - val_accuracy: 0.6372\n",
      "Model: \"sequential_8\"\n",
      "_________________________________________________________________\n",
      "Layer (type)                 Output Shape              Param #   \n",
      "=================================================================\n",
      "conv2d_13 (Conv2D)           (None, 254, 254, 32)      896       \n",
      "_________________________________________________________________\n",
      "max_pooling2d_13 (MaxPooling (None, 127, 127, 32)      0         \n",
      "_________________________________________________________________\n",
      "conv2d_14 (Conv2D)           (None, 125, 125, 64)      18496     \n",
      "_________________________________________________________________\n",
      "max_pooling2d_14 (MaxPooling (None, 62, 62, 64)        0         \n",
      "_________________________________________________________________\n",
      "flatten_8 (Flatten)          (None, 246016)            0         \n",
      "_________________________________________________________________\n",
      "dense_16 (Dense)             (None, 100)               24601700  \n",
      "_________________________________________________________________\n",
      "dense_17 (Dense)             (None, 5)                 505       \n",
      "=================================================================\n",
      "Total params: 24,621,597\n",
      "Trainable params: 24,621,597\n",
      "Non-trainable params: 0\n",
      "_________________________________________________________________\n",
      "9/9 [==============================] - 9s 954ms/step - loss: 1.1230 - accuracy: 0.6514\n",
      "Accuracy: 0.651\n"
     ]
    },
    {
     "data": {
      "image/png": "[encoded data removed]",
      "text/plain": [
       "<Figure size 432x288 with 1 Axes>"
      ]
     },
     "metadata": {
      "needs_background": "light"
     },
     "output_type": "display_data"
    }
   ],
   "source": [
    "# cnn_model = train_cnn(train_img_data, val_img_data, test_img_data)\n",
    "cnn_model = train_cnn(train_img_data, val_img_data, test_img_data)\n"
   ]
  },
  {
   "cell_type": "code",
   "execution_count": 83,
   "id": "5dd947b4",
   "metadata": {},
   "outputs": [
    {
     "data": {
      "text/plain": [
       "['healthy', 'mild', 'moderate', 'proliferate', 'severe']"
      ]
     },
     "execution_count": 83,
     "metadata": {},
     "output_type": "execute_result"
    }
   ],
   "source": [
    "test_img_data.class_names"
   ]
  },
  {
   "cell_type": "code",
   "execution_count": 85,
   "id": "3593a3b3",
   "metadata": {},
   "outputs": [],
   "source": [
    "def predict_cnn(test_img_data):\n",
    "    y_pred = []  # store predicted labels\n",
    "    y_true = []  # store true labels\n",
    "\n",
    "    for image_batch, label_batch in test_img_data:   # use dataset.unbatch() with repeat\n",
    "       # append true labels\n",
    "       y_true.append(label_batch)\n",
    "       # compute predictions\n",
    "       preds = cnn_model.predict(image_batch)\n",
    "       # append predicted labels\n",
    "       y_pred.append(np.argmax(preds, axis = - 1))\n",
    "\n",
    "    # convert the true and predicted labels into tensors\n",
    "    correct_labels = tf.concat([item for item in y_true], axis = 0)\n",
    "    predicted_labels = tf.concat([item for item in y_pred], axis = 0)        \n",
    "    \n",
    "    print(classification_report(np.argmax(correct_labels.numpy(), axis=1), \n",
    "                                predicted_labels.numpy(), \n",
    "                                target_names=test_img_data.class_names))\n",
    "    return predicted_categories, y_pred, test_labels"
   ]
  },
  {
   "cell_type": "code",
   "execution_count": 86,
   "id": "bc904008",
   "metadata": {
    "scrolled": false
   },
   "outputs": [
    {
     "name": "stdout",
     "output_type": "stream",
     "text": [
      "              precision    recall  f1-score   support\n",
      "\n",
      "     healthy       0.86      0.90      0.88       156\n",
      "        mild       0.35      0.47      0.40        55\n",
      "    moderate       0.61      0.71      0.65       150\n",
      " proliferate       0.18      0.11      0.13        38\n",
      "      severe       0.71      0.12      0.20        42\n",
      "\n",
      "    accuracy                           0.64       441\n",
      "   macro avg       0.54      0.46      0.45       441\n",
      "weighted avg       0.64      0.64      0.61       441\n",
      "\n",
      "              precision    recall  f1-score   support\n",
      "\n",
      "     healthy       0.86      0.89      0.88       200\n",
      "        mild       0.41      0.57      0.47        74\n",
      "    moderate       0.61      0.71      0.66       180\n",
      " proliferate       0.32      0.13      0.19        53\n",
      "      severe       0.00      0.00      0.00        38\n",
      "\n",
      "    accuracy                           0.65       545\n",
      "   macro avg       0.44      0.46      0.44       545\n",
      "weighted avg       0.61      0.65      0.62       545\n",
      "\n"
     ]
    },
    {
     "data": {
      "text/plain": [
       "(array([2, 2, 0, 1, 0, 1, 2, 0, 2, 2, 3, 2, 0, 0, 3, 2, 2, 2, 2, 1, 2, 0,\n",
       "        0, 0, 1, 2, 1, 2, 0, 1, 0, 1, 0, 0, 2, 0, 2, 2, 0, 0, 2, 2, 1, 0,\n",
       "        0, 0, 2, 0, 0, 1, 2, 0, 2, 2, 2, 2, 1, 0, 2, 2, 2, 2, 0, 0, 3, 2,\n",
       "        2, 0, 0, 2, 0, 1, 1, 0, 0, 2, 2, 1, 2, 0, 1, 1, 2, 1, 1, 0, 2, 1,\n",
       "        1, 2, 1, 2, 0, 1, 0, 2, 2, 1, 4, 2, 0, 1, 2, 0, 2, 1, 1, 0, 2, 2,\n",
       "        0, 2, 2, 2, 2, 2, 2, 1, 1, 0, 2, 3, 2, 0, 2, 1, 2, 0, 0, 3, 2, 3,\n",
       "        1, 0, 2, 2, 2, 2, 1, 2, 0, 0, 2, 2, 2, 2, 2, 1, 2, 0, 1, 2, 2, 2,\n",
       "        2, 2, 0, 3, 2, 3, 2, 3, 0, 1, 1, 1, 1, 0, 2, 0, 0, 0, 0, 2, 3, 1,\n",
       "        0, 1, 1, 0, 1, 0, 1, 2, 2, 1, 2, 0, 2, 1, 3, 0, 0, 2, 0, 1, 1, 2,\n",
       "        2, 0, 3, 1, 0, 0, 2, 1, 0, 2, 2, 2, 2, 2, 3, 0, 2, 0, 2, 2, 0, 0,\n",
       "        2, 0, 1, 2, 0, 2, 2, 0, 2, 1, 2, 0, 0, 0, 4, 0, 2, 2, 2, 2, 0, 2,\n",
       "        1, 2, 0, 0, 0, 1, 1, 1, 1, 0, 0, 1, 3, 0, 1, 1, 1, 2, 0, 0, 2, 1,\n",
       "        1, 2, 2, 2, 1, 1, 1, 2, 0, 0, 0, 1, 2, 0, 2, 3, 1, 0, 0, 0, 2, 1,\n",
       "        0, 1, 0, 0, 3, 1, 1, 1, 1, 0, 0, 0, 2, 2, 0, 2, 2, 2, 2, 2, 0, 0,\n",
       "        2, 1, 2, 2, 2, 0, 2, 2, 2, 2, 1, 0, 2, 0, 0, 2, 1, 0, 0, 0, 0, 1,\n",
       "        0, 2, 2, 0, 2, 2, 0, 0, 2, 0, 0, 2, 2, 0, 0, 1, 1, 2, 2, 2, 1, 1,\n",
       "        2, 1, 1, 0, 2, 0, 0, 0, 0, 1, 0, 2, 2, 2, 1, 2, 0, 1, 0, 0, 2, 2,\n",
       "        0, 2, 2, 2, 0, 2, 1, 0, 0, 1, 0, 2, 2, 2, 2, 2, 2, 1, 2, 0, 2, 0,\n",
       "        0, 2, 1, 0, 2, 2, 2, 0, 0, 0, 1, 2, 2, 1, 1, 2, 2, 2, 2, 2, 2, 0,\n",
       "        2, 3, 0, 2, 0, 0, 1, 2, 0, 2, 0, 0, 0, 2, 2, 0, 2, 0, 2, 1, 0, 3,\n",
       "        0, 0, 2, 2, 1, 1, 2, 0, 0, 0, 2, 2, 0, 2, 0, 2, 0, 1, 1, 1, 2, 4,\n",
       "        1, 1, 1, 2, 2, 1, 2, 2, 2, 0, 0, 1, 1, 2, 2, 1, 2, 1, 2, 1, 2, 1,\n",
       "        2, 3, 0, 1, 2, 2, 3, 2, 0, 2, 1, 0, 4, 0, 1, 2, 2, 1, 3, 2, 1, 0,\n",
       "        2, 0, 2, 0, 0, 1, 2, 1, 2, 1, 0, 2, 0, 1, 2, 2, 2, 1, 1, 0, 2, 2,\n",
       "        2, 0, 1, 2, 1, 2, 0, 2, 1, 2, 0, 1, 0, 0, 0, 0, 0]),\n",
       " [array([1, 2, 2, 2, 2, 2, 3, 0, 2, 2, 0, 2, 0, 3, 0, 0, 0, 2, 0, 0, 2, 0,\n",
       "         1, 0, 2, 2, 2, 0, 0, 4, 1, 0, 2, 2, 2, 2, 1, 0, 1, 1, 2, 2, 1, 2,\n",
       "         0, 0, 2, 1, 2, 0, 2, 0, 1, 1, 2, 0, 1, 1, 2, 2, 1, 0, 1, 0]),\n",
       "  array([0, 2, 2, 2, 2, 2, 1, 1, 2, 1, 2, 0, 1, 1, 0, 3, 0, 2, 1, 0, 2, 2,\n",
       "         0, 0, 2, 1, 0, 1, 0, 2, 1, 0, 0, 1, 2, 0, 0, 2, 0, 2, 1, 1, 1, 0,\n",
       "         2, 2, 2, 2, 0, 3, 1, 2, 0, 2, 1, 2, 2, 2, 2, 0, 2, 2, 1, 0]),\n",
       "  array([0, 0, 2, 0, 2, 0, 2, 2, 3, 0, 2, 0, 3, 4, 2, 2, 0, 2, 2, 1, 1, 0,\n",
       "         1, 3, 3, 2, 2, 0, 1, 2, 0, 2, 0, 1, 0, 0, 1, 0, 2, 1, 3, 0, 1, 0,\n",
       "         0, 0, 1, 3, 0, 2, 0, 0, 2, 0, 0, 0, 0, 0, 2, 2, 1, 1, 1, 0]),\n",
       "  array([0, 2, 1, 0, 0, 1, 0, 2, 2, 0, 2, 2, 0, 2, 2, 2, 2, 2, 2, 2, 2, 1,\n",
       "         0, 0, 3, 2, 2, 2, 3, 2, 2, 2, 2, 2, 2, 2, 1, 0, 1, 2, 0, 2, 1, 2,\n",
       "         0, 0, 2, 2, 2, 2, 2, 0, 0, 2, 0, 2, 0, 0, 2, 0, 1, 1, 0, 0]),\n",
       "  array([0, 2, 0, 2, 2, 2, 2, 0, 0, 1, 2, 0, 1, 2, 0, 2, 0, 0, 0, 2, 2, 0,\n",
       "         2, 1, 0, 0, 2, 0, 0, 2, 2, 2, 2, 0, 2, 0, 0, 0, 1, 2, 2, 0, 2, 1,\n",
       "         0, 0, 1, 2, 0, 1, 2, 1, 0, 2, 0, 2, 0, 1, 2, 0, 0, 2, 1, 2]),\n",
       "  array([2, 1, 2, 1, 2, 0, 2, 1, 2, 2, 0, 2, 2, 0, 0, 2, 1, 2, 2, 0, 2, 1,\n",
       "         0, 2, 1, 2, 2, 2, 3, 0, 2, 2, 1, 2, 0, 0, 0, 2, 1, 0, 0, 1, 2, 1,\n",
       "         0, 0, 1, 0, 0, 0, 2, 2, 0, 0, 2, 1, 0, 2, 2, 4, 0, 0, 0, 1]),\n",
       "  array([1, 3, 0, 2, 0, 2, 2, 2, 1, 0, 0, 0, 2, 4, 2, 0, 1, 2, 0, 2, 0, 2,\n",
       "         1, 0, 3, 0, 2, 1, 0, 2, 0, 4, 1, 1, 2, 2, 1, 2, 2, 2, 2, 0, 0, 2,\n",
       "         0, 1, 1, 1, 0, 0, 0, 0, 0, 0, 3, 0, 0, 2, 3, 2, 1, 0, 0, 2]),\n",
       "  array([2, 3, 0, 2, 1, 0, 0, 0, 0, 2, 0, 2, 1, 0, 0, 1, 0, 2, 0, 0, 0, 2,\n",
       "         0, 0, 0, 0, 2, 0, 0, 0, 0, 1, 2, 2, 0, 2, 0, 2, 0, 2, 3, 0, 3, 2,\n",
       "         1, 1, 2, 2, 0, 1, 0, 2, 1, 0, 2, 2, 0, 0, 2, 1, 2, 1, 2, 0]),\n",
       "  array([1, 0, 2, 2, 0, 0, 0, 2, 3, 0, 0, 0, 1, 2, 2, 0, 1, 1, 1, 0, 1, 3,\n",
       "         2, 2, 0, 2, 1, 1, 0, 0, 2, 0, 0])],\n",
       " array([0, 1, 2, 4, 0, 2, 2, 4, 4, 2, 3, 2, 4, 0, 3, 3, 0, 0, 4, 0, 0, 2,\n",
       "        0, 3, 0, 1, 2, 0, 2, 2, 0, 0, 1, 2, 1, 3, 3, 2, 2, 1, 2, 0, 2, 2,\n",
       "        0, 0, 1, 4, 0, 0, 3, 0, 1, 2, 3, 2, 0, 0, 1, 0, 2, 2, 0, 1, 3, 2,\n",
       "        2, 1, 0, 0, 2, 2, 0, 0, 1, 0, 0, 2, 2, 2, 0, 2, 0, 0, 0, 0, 0, 3,\n",
       "        3, 2, 3, 0, 2, 0, 1, 0, 0, 0, 2, 1, 0, 4, 2, 2, 1, 2, 0, 3, 0, 0,\n",
       "        4, 0, 0, 4, 0, 0, 3, 3, 2, 0, 0, 0, 2, 3, 2, 0, 2, 0, 3, 0, 3, 0,\n",
       "        0, 2, 3, 0, 2, 2, 3, 0, 2, 2, 0, 4, 2, 2, 3, 2, 2, 4, 0, 0, 2, 0,\n",
       "        2, 1, 0, 0, 2, 2, 3, 0, 2, 2, 3, 2, 2, 2, 0, 0, 0, 2, 1, 0, 1, 2,\n",
       "        2, 0, 2, 0, 2, 2, 0, 0, 0, 2, 4, 1, 2, 0, 1, 0, 4, 0, 3, 0, 0, 2,\n",
       "        4, 1, 2, 2, 1, 3, 0, 2, 4, 0, 1, 1, 3, 2, 1, 0, 0, 0, 2, 0, 0, 0,\n",
       "        2, 0, 1, 4, 0, 0, 0, 0, 0, 3, 0, 2, 2, 2, 2, 0, 0, 2, 1, 4, 2, 0,\n",
       "        4, 0, 0, 2, 2, 2, 0, 0, 2, 0, 1, 1, 0, 0, 0, 0, 0, 0, 0, 2, 1, 0,\n",
       "        0, 1, 2, 4, 3, 4, 0, 3, 0, 2, 0, 2, 0, 1, 3, 1, 0, 3, 1, 1, 0, 0,\n",
       "        0, 2, 0, 1, 0, 2, 1, 2, 4, 2, 4, 3, 2, 2, 0, 0, 0, 1, 1, 0, 1, 1,\n",
       "        2, 0, 2, 2, 1, 0, 2, 0, 2, 0, 2, 0, 0, 1, 0, 2, 2, 0, 0, 2, 0, 0,\n",
       "        3, 4, 3, 0, 2, 2, 1, 2, 2, 1, 2, 4, 2, 2, 0, 2, 2, 2, 2, 2, 2, 3,\n",
       "        2, 0, 0, 2, 1, 2, 2, 4, 3, 3, 2, 2, 1, 0, 4, 0, 3, 0, 0, 0, 1, 3,\n",
       "        0, 3, 0, 0, 0, 3, 1, 2, 1, 0, 0, 3, 2, 2, 2, 2, 2, 1, 0, 2, 2, 2,\n",
       "        2, 2, 0, 2, 0, 0, 0, 3, 0, 1, 3, 4, 0, 0, 2, 2, 0, 1, 2, 1, 0, 0,\n",
       "        1, 0, 2, 0, 2, 1, 0, 1, 2, 0, 0, 2, 0, 1, 0, 2, 3, 2, 2, 2, 2, 1,\n",
       "        0, 2, 2, 4, 0, 0, 2, 1, 2, 2, 2, 2, 2, 2, 1, 4, 0, 0, 4, 0, 2, 0,\n",
       "        0, 1, 2, 0, 0, 0, 2, 0, 0, 1, 2, 2, 2, 0, 3, 1, 2, 3, 3, 2, 0, 4,\n",
       "        4, 2, 1, 2, 0, 2, 0, 0, 0, 1, 2, 3, 4, 3, 2, 0, 1, 1, 2, 4, 1, 0,\n",
       "        4, 0, 2, 3, 2, 2, 0, 0, 0, 4, 3, 4, 0, 3, 2, 2, 2, 2, 2, 0, 1, 0,\n",
       "        0, 2, 2, 2, 1, 0, 1, 1, 0, 2, 0, 1, 2, 4, 2, 1, 2]))"
      ]
     },
     "execution_count": 86,
     "metadata": {},
     "output_type": "execute_result"
    }
   ],
   "source": [
    "predict_cnn(val_img_data)\n",
    "predict_cnn(test_img_data)"
   ]
  },
  {
   "cell_type": "code",
   "execution_count": 54,
   "id": "5bab2329",
   "metadata": {},
   "outputs": [
    {
     "data": {
      "text/plain": [
       "array([3, 0, 0, 3, 2, 3, 2, 0, 3, 0, 1, 0, 2, 1, 2, 2, 0, 0, 0, 0, 1, 0,\n",
       "       3, 3, 2, 1, 0, 1, 0, 2, 2, 2, 0, 2, 2, 0, 2, 4, 4, 3, 4, 2, 0, 0,\n",
       "       2, 0, 2, 0, 0, 1, 2, 2, 0, 1, 2, 3, 0, 1, 2, 2, 0, 2, 0, 3, 1, 4,\n",
       "       4, 3, 2, 1, 1, 0, 2, 0, 3, 0, 4, 2, 2, 2, 2, 3, 0, 0, 2, 1, 0, 2,\n",
       "       1, 0, 2, 0, 2, 0, 0, 0, 2, 3, 2, 2, 2, 2, 0, 4, 2, 0, 1, 0, 4, 3,\n",
       "       1, 4, 0, 0, 2, 2, 0, 0, 0, 0, 2, 2, 0, 4, 3, 2, 2, 2, 1, 0, 1, 2,\n",
       "       2, 0, 1, 0, 0, 0, 0, 2, 0, 0, 2, 3, 0, 0, 2, 2, 1, 4, 0, 0, 2, 4,\n",
       "       4, 0, 1, 3, 3, 0, 2, 4, 1, 0, 0, 2, 2, 0, 0, 2, 0, 2, 2, 0, 2, 0,\n",
       "       2, 1, 0, 0, 2, 4, 2, 0, 3, 2, 0, 0, 0, 2, 2, 0, 3, 1, 2, 2, 3, 2,\n",
       "       4, 0, 0, 0, 0, 0, 2, 2, 2, 0, 0, 1, 2, 2, 0, 0, 0, 0, 0, 4, 0, 2,\n",
       "       0, 1, 1, 0, 0, 1, 2, 2, 2, 2, 0, 2, 1, 2, 0, 2, 2, 2, 0, 0, 0, 0,\n",
       "       1, 1, 0, 2, 1, 0, 2, 2, 3, 0, 3, 2, 0, 2, 4, 2, 2, 2, 1, 1, 0, 1,\n",
       "       0, 0, 0, 3, 4, 1, 2, 3, 1, 0, 2, 2, 2, 2, 1, 2, 2, 2, 2, 1, 0, 3,\n",
       "       0, 4, 3, 4, 1, 3, 2, 3, 0, 0, 0, 2, 1, 0, 1, 4, 0, 4, 0, 3, 2, 3,\n",
       "       3, 2, 0, 1, 0, 2, 2, 2, 1, 2, 4, 3, 0, 2, 2, 2, 2, 2, 1, 2, 0, 0,\n",
       "       2, 0, 2, 3, 2, 0, 2, 2, 2, 0, 2, 2, 2, 2, 2, 0, 0, 0, 3, 2, 3, 0,\n",
       "       3, 0, 2, 1, 0, 2, 2, 0, 1, 1, 2, 1, 1, 0, 1, 0, 2, 2, 2, 4, 1, 4,\n",
       "       4, 3, 4, 2, 0, 0, 0, 0, 2, 0, 0, 2, 0, 4, 0, 2, 0, 0, 3, 0, 1, 0,\n",
       "       0, 2, 0, 3, 0, 2, 0, 1, 0, 0, 2, 1, 2, 1, 2, 2, 0, 1, 4, 1, 2, 0,\n",
       "       1, 0, 0, 0, 4, 3, 0, 2, 1, 2, 1, 0, 2, 0, 0, 2, 2, 0, 2, 0, 0, 1,\n",
       "       2, 0, 2, 0, 4, 0, 0, 4, 0, 0, 3, 0, 3, 0, 3, 1, 2, 4, 0, 0, 3, 0,\n",
       "       0, 2, 2, 2, 0, 0, 3, 0, 0, 3, 0, 2, 4, 0, 2, 0, 2, 4, 3, 0, 1, 2,\n",
       "       0, 2, 2, 2, 3, 0, 0, 0, 1, 0, 0, 2, 2, 2, 0, 0, 3, 4, 3, 2, 0, 1,\n",
       "       0, 2, 3, 2, 1, 0, 2, 2, 0, 1, 2, 2, 1, 0, 2, 4, 0, 0, 0, 2, 2, 1,\n",
       "       2, 2, 3, 2, 2, 0, 1, 2, 1, 0, 0, 1, 0, 1, 0, 0, 1])"
      ]
     },
     "execution_count": 54,
     "metadata": {},
     "output_type": "execute_result"
    }
   ],
   "source": [
    "\n",
    "\n"
   ]
  },
  {
   "cell_type": "code",
   "execution_count": 56,
   "id": "561418f1",
   "metadata": {},
   "outputs": [
    {
     "name": "stdout",
     "output_type": "stream",
     "text": [
      "              precision    recall  f1-score   support\n",
      "\n",
      "           0       0.94      0.82      0.88       200\n",
      "           1       0.40      0.66      0.50        74\n",
      "           2       0.55      0.67      0.60       180\n",
      "           3       0.33      0.13      0.19        53\n",
      "           4       0.00      0.00      0.00        38\n",
      "\n",
      "    accuracy                           0.63       545\n",
      "   macro avg       0.44      0.46      0.43       545\n",
      "weighted avg       0.61      0.63      0.61       545\n",
      "\n"
     ]
    }
   ],
   "source": []
  },
  {
   "cell_type": "code",
   "execution_count": 47,
   "id": "2826786c",
   "metadata": {},
   "outputs": [
    {
     "name": "stdout",
     "output_type": "stream",
     "text": [
      "Classification Report\n",
      "              precision    recall  f1-score   support\n",
      "\n",
      "     healthy       0.35      0.32      0.34       156\n",
      "        mild       0.14      0.25      0.18        55\n",
      "    moderate       0.32      0.37      0.34       150\n",
      " proliferate       0.14      0.08      0.10        38\n",
      "      severe       0.00      0.00      0.00        42\n",
      "\n",
      "    accuracy                           0.28       441\n",
      "   macro avg       0.19      0.20      0.19       441\n",
      "weighted avg       0.26      0.28      0.27       441\n",
      "\n",
      "Classification Report\n",
      "              precision    recall  f1-score   support\n",
      "\n",
      "     healthy       0.36      0.32      0.34       200\n",
      "        mild       0.09      0.15      0.11        74\n",
      "    moderate       0.33      0.41      0.37       180\n",
      " proliferate       0.14      0.06      0.08        53\n",
      "      severe       0.25      0.03      0.05        38\n",
      "\n",
      "    accuracy                           0.28       545\n",
      "   macro avg       0.24      0.19      0.19       545\n",
      "weighted avg       0.29      0.28      0.27       545\n",
      "\n"
     ]
    }
   ],
   "source": [
    "# predict_cnn(val_img_data)\n",
    "predicted_categories, y_pred, test_labels = predict_cnn(val_img_data)\n",
    "predicted_categories, y_pred, test_labels = predict_cnn(test_img_data)"
   ]
  },
  {
   "cell_type": "markdown",
   "id": "eaf208df",
   "metadata": {},
   "source": [
    "### Train DNN"
   ]
  },
  {
   "cell_type": "code",
   "execution_count": null,
   "id": "b872318c",
   "metadata": {},
   "outputs": [],
   "source": [
    "im = cv2.imread(train_files[0])\n",
    "im_reshaped = image_to_vector(im)\n",
    "pyplot.imshow(im, cmap=pyplot.get_cmap('gray'))\n"
   ]
  },
  {
   "cell_type": "code",
   "execution_count": 21,
   "id": "2de247fa",
   "metadata": {},
   "outputs": [
    {
     "name": "stdout",
     "output_type": "stream",
     "text": [
      "Epoch 1/15\n",
      "25/25 [==============================] - 5s 189ms/step - loss: 9981.4014 - accuracy: 0.2903 - val_loss: 6276.3652 - val_accuracy: 0.4924\n",
      "Epoch 2/15\n",
      "25/25 [==============================] - 4s 181ms/step - loss: 4015.8076 - accuracy: 0.3545 - val_loss: 1968.4730 - val_accuracy: 0.3625\n",
      "Epoch 3/15\n",
      "25/25 [==============================] - 4s 178ms/step - loss: 1748.3214 - accuracy: 0.4582 - val_loss: 598.0143 - val_accuracy: 0.4804\n",
      "Epoch 4/15\n",
      "25/25 [==============================] - 4s 177ms/step - loss: 1363.5499 - accuracy: 0.4588 - val_loss: 1519.1957 - val_accuracy: 0.4502\n",
      "Epoch 5/15\n",
      "25/25 [==============================] - 4s 177ms/step - loss: 1217.4628 - accuracy: 0.4485 - val_loss: 1731.7893 - val_accuracy: 0.4517\n",
      "Epoch 6/15\n",
      "25/25 [==============================] - 4s 180ms/step - loss: 1426.3635 - accuracy: 0.4951 - val_loss: 1143.5277 - val_accuracy: 0.3233\n",
      "Epoch 7/15\n",
      "25/25 [==============================] - 4s 180ms/step - loss: 630.6315 - accuracy: 0.5301 - val_loss: 776.4359 - val_accuracy: 0.5921\n",
      "Epoch 8/15\n",
      "25/25 [==============================] - 4s 180ms/step - loss: 544.7482 - accuracy: 0.5554 - val_loss: 1916.4993 - val_accuracy: 0.3459\n",
      "Epoch 9/15\n",
      "25/25 [==============================] - 4s 180ms/step - loss: 1387.7147 - accuracy: 0.4381 - val_loss: 857.2809 - val_accuracy: 0.4940\n",
      "Epoch 10/15\n",
      "25/25 [==============================] - 4s 180ms/step - loss: 1472.0323 - accuracy: 0.4725 - val_loss: 739.1875 - val_accuracy: 0.4668\n",
      "Epoch 11/15\n",
      "25/25 [==============================] - 5s 218ms/step - loss: 592.5414 - accuracy: 0.5308 - val_loss: 859.8443 - val_accuracy: 0.4169\n",
      "Epoch 12/15\n",
      "25/25 [==============================] - 5s 182ms/step - loss: 833.9418 - accuracy: 0.4925 - val_loss: 902.0083 - val_accuracy: 0.4230\n",
      "Epoch 13/15\n",
      "25/25 [==============================] - 5s 182ms/step - loss: 855.7398 - accuracy: 0.4802 - val_loss: 554.8234 - val_accuracy: 0.4260\n",
      "Epoch 14/15\n",
      "25/25 [==============================] - 4s 180ms/step - loss: 806.0717 - accuracy: 0.5237 - val_loss: 692.8398 - val_accuracy: 0.6057\n",
      "Epoch 15/15\n",
      "25/25 [==============================] - 4s 179ms/step - loss: 854.6695 - accuracy: 0.5347 - val_loss: 935.0546 - val_accuracy: 0.6057\n",
      "Model: \"sequential_4\"\n",
      "_________________________________________________________________\n",
      "Layer (type)                 Output Shape              Param #   \n",
      "=================================================================\n",
      "dense_12 (Dense)             (None, 100)               19660900  \n",
      "_________________________________________________________________\n",
      "dense_13 (Dense)             (None, 50)                5050      \n",
      "_________________________________________________________________\n",
      "dense_14 (Dense)             (None, 5)                 255       \n",
      "=================================================================\n",
      "Total params: 19,666,205\n",
      "Trainable params: 19,666,205\n",
      "Non-trainable params: 0\n",
      "_________________________________________________________________\n",
      "18/18 [==============================] - 1s 36ms/step - loss: 923.3029 - accuracy: 0.6239\n",
      "Test Accuracy: 0.624\n"
     ]
    },
    {
     "data": {
      "image/png": "[encoded data removed]",
      "text/plain": [
       "<Figure size 432x288 with 1 Axes>"
      ]
     },
     "metadata": {
      "needs_background": "light"
     },
     "output_type": "display_data"
    }
   ],
   "source": [
    "from sklearn.preprocessing import OneHotEncoder\n",
    "from tensorflow.keras.utils import to_categorical\n",
    "\n",
    "\n",
    "train_files, test_files = get_list_of_files(train_dir, test_dir)\n",
    "\n",
    "# Shuffle before calling Train\n",
    "np.random.shuffle(train_files)\n",
    "train_data, train_labels = read_data(train_files, scale=True)\n",
    "\n",
    "test_data, test_labels = read_data(test_files)\n",
    "\n",
    "enc = LabelEncoder().fit(train_labels)\n",
    "y_train = enc.transform(train_labels)\n",
    "y_train = to_categorical(y_train)\n",
    "\n",
    "y_test = enc.transform(test_labels)\n",
    "y_test = to_categorical(y_test)\n",
    "\n",
    "\n",
    "dnn_model = train_dnn(train_data, test_data, y_train, y_test)"
   ]
  },
  {
   "cell_type": "code",
   "execution_count": 22,
   "id": "1511fbc1",
   "metadata": {},
   "outputs": [
    {
     "name": "stdout",
     "output_type": "stream",
     "text": [
      "              precision    recall  f1-score   support\n",
      "\n",
      "           0     0.9371    0.8200    0.8747       200\n",
      "           1     0.0000    0.0000    0.0000        74\n",
      "           2     0.4757    0.9778    0.6400       180\n",
      "           3     0.0000    0.0000    0.0000        53\n",
      "           4     0.0000    0.0000    0.0000        38\n",
      "\n",
      "    accuracy                         0.6239       545\n",
      "   macro avg     0.2826    0.3596    0.3029       545\n",
      "weighted avg     0.5010    0.6239    0.5324       545\n",
      "\n"
     ]
    },
    {
     "name": "stderr",
     "output_type": "stream",
     "text": [
      "/home/ec2-user/anaconda3/envs/python3/lib/python3.6/site-packages/sklearn/metrics/_classification.py:1245: UndefinedMetricWarning: Precision and F-score are ill-defined and being set to 0.0 in labels with no predicted samples. Use `zero_division` parameter to control this behavior.\n",
      "  _warn_prf(average, modifier, msg_start, len(result))\n",
      "/home/ec2-user/anaconda3/envs/python3/lib/python3.6/site-packages/sklearn/metrics/_classification.py:1245: UndefinedMetricWarning: Precision and F-score are ill-defined and being set to 0.0 in labels with no predicted samples. Use `zero_division` parameter to control this behavior.\n",
      "  _warn_prf(average, modifier, msg_start, len(result))\n",
      "/home/ec2-user/anaconda3/envs/python3/lib/python3.6/site-packages/sklearn/metrics/_classification.py:1245: UndefinedMetricWarning: Precision and F-score are ill-defined and being set to 0.0 in labels with no predicted samples. Use `zero_division` parameter to control this behavior.\n",
      "  _warn_prf(average, modifier, msg_start, len(result))\n"
     ]
    }
   ],
   "source": [
    "y_predicted = dnn_model.predict(test_data)\n",
    "y_predicted = np.argmax(y_predicted, axis=-1)\n",
    "\n",
    "y_test = enc.transform(test_labels)\n",
    "y_test = to_categorical(y_test)\n",
    "\n",
    "y_test = np.argmax(y_test, axis=-1)\n",
    "print(classification_report(y_test, y_predicted, digits=4))"
   ]
  },
  {
   "cell_type": "code",
   "execution_count": null,
   "id": "5a73b077",
   "metadata": {},
   "outputs": [],
   "source": []
  }
 ],
 "metadata": {
  "kernelspec": {
   "display_name": "Python 3 (ipykernel)",
   "language": "python",
   "name": "python3"
  },
  "language_info": {
   "codemirror_mode": {
    "name": "ipython",
    "version": 3
   },
   "file_extension": ".py",
   "mimetype": "text/x-python",
   "name": "python",
   "nbconvert_exporter": "python",
   "pygments_lexer": "ipython3",
   "version": "3.7.13"
  }
 },
 "nbformat": 4,
 "nbformat_minor": 5
}
